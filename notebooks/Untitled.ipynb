{
 "cells": [
  {
   "cell_type": "code",
   "execution_count": 2,
   "id": "8038c7ab",
   "metadata": {},
   "outputs": [],
   "source": [
    "import os, sys\n",
    "sys.path.insert(0, os.path.dirname(os.path.abspath(\"\")))"
   ]
  },
  {
   "cell_type": "code",
   "execution_count": 40,
   "id": "57be28de",
   "metadata": {},
   "outputs": [],
   "source": [
    "from model.models.threes import ThreesModel\n",
    "from matplotlib import pyplot as plt\n",
    "import numpy as np"
   ]
  },
  {
   "cell_type": "code",
   "execution_count": 4,
   "id": "bc6b1e2a",
   "metadata": {},
   "outputs": [],
   "source": [
    "model = ThreesModel()"
   ]
  },
  {
   "cell_type": "code",
   "execution_count": 10,
   "id": "7f68063b",
   "metadata": {},
   "outputs": [
    {
     "name": "stderr",
     "output_type": "stream",
     "text": [
      "Simulating 3PM outcomes for Dillon Brooks vs PHI...: 100%|█| 10000/10000 [00\n"
     ]
    }
   ],
   "source": [
    "fgms = model.run_threes_model(player_name='Dillon Brooks', n_simulated_games=10_000, opponent='PHI', plot=False)"
   ]
  },
  {
   "cell_type": "code",
   "execution_count": 33,
   "id": "e8a8b982",
   "metadata": {
    "scrolled": false
   },
   "outputs": [
    {
     "data": {
      "text/plain": [
       "18"
      ]
     },
     "execution_count": 33,
     "metadata": {},
     "output_type": "execute_result"
    }
   ],
   "source": [
    "len(set(fgms))"
   ]
  },
  {
   "cell_type": "code",
   "execution_count": 34,
   "id": "3de68692",
   "metadata": {},
   "outputs": [
    {
     "name": "stderr",
     "output_type": "stream",
     "text": [
      "Simulating 3PM outcomes for Dillon Brooks vs PHI...: 100%|█| 15000/15000 [00\n"
     ]
    }
   ],
   "source": [
    "fgms = model.run_threes_model(player_name='Dillon Brooks', n_simulated_games=15_000, opponent='PHI', plot=False)"
   ]
  },
  {
   "cell_type": "code",
   "execution_count": 35,
   "id": "5edcf946",
   "metadata": {},
   "outputs": [
    {
     "data": {
      "text/plain": [
       "20"
      ]
     },
     "execution_count": 35,
     "metadata": {},
     "output_type": "execute_result"
    }
   ],
   "source": [
    "len(set(fgms))"
   ]
  },
  {
   "cell_type": "code",
   "execution_count": 36,
   "id": "b48fef4f",
   "metadata": {},
   "outputs": [
    {
     "name": "stderr",
     "output_type": "stream",
     "text": [
      "Simulating 3PM outcomes for Dillon Brooks vs PHI...: 100%|█| 50000/50000 [01\n"
     ]
    }
   ],
   "source": [
    "fgms = model.run_threes_model(player_name='Dillon Brooks', n_simulated_games=50_000, opponent='PHI', plot=False)"
   ]
  },
  {
   "cell_type": "code",
   "execution_count": 37,
   "id": "9fb4d790",
   "metadata": {},
   "outputs": [
    {
     "data": {
      "text/plain": [
       "18"
      ]
     },
     "execution_count": 37,
     "metadata": {},
     "output_type": "execute_result"
    }
   ],
   "source": [
    "len(set(fgms))"
   ]
  },
  {
   "cell_type": "code",
   "execution_count": 41,
   "id": "56f4c772",
   "metadata": {},
   "outputs": [
    {
     "data": {
      "text/plain": [
       "array([0.        , 0.33268107, 0.57790294, 0.85771834, 1.15372511,\n",
       "       1.48640618, 1.81908725, 2.0893918 , 2.36954449, 2.63984054,\n",
       "       2.97178338, 3.30446447, 3.58039755, 3.86021291, 4.13122665,\n",
       "       4.41708274, 4.74976381, 5.0100779 ])"
      ]
     },
     "execution_count": 41,
     "metadata": {},
     "output_type": "execute_result"
    }
   ],
   "source": [
    "np.unique(fgms)"
   ]
  },
  {
   "cell_type": "code",
   "execution_count": 42,
   "id": "67f7632b",
   "metadata": {},
   "outputs": [
    {
     "name": "stderr",
     "output_type": "stream",
     "text": [
      "Simulating 3PM outcomes for Jayson Tatum vs PHI...: 100%|█| 10000/10000 [00:\n"
     ]
    }
   ],
   "source": [
    "fgms = model.run_threes_model(player_name='Jayson Tatum', n_simulated_games=10_000, opponent='PHI', plot=False)"
   ]
  },
  {
   "cell_type": "code",
   "execution_count": 43,
   "id": "4a6f0b50",
   "metadata": {},
   "outputs": [
    {
     "data": {
      "text/plain": [
       "array([0.        , 0.32096989, 0.68106973, 1.03612814, 1.28188209,\n",
       "       1.63992006, 1.99637782, 2.26241083, 2.71257333, 3.11483777,\n",
       "       3.47248803, 3.69782775, 4.08854795, 4.49804213, 4.80322207,\n",
       "       5.19298953, 5.54802802, 5.98906436, 6.25733515, 6.62347325,\n",
       "       6.93550056, 7.22188288, 7.88850734])"
      ]
     },
     "execution_count": 43,
     "metadata": {},
     "output_type": "execute_result"
    }
   ],
   "source": [
    "np.unique(fgms)"
   ]
  },
  {
   "cell_type": "code",
   "execution_count": 46,
   "id": "c6cbea23",
   "metadata": {},
   "outputs": [
    {
     "data": {
      "text/plain": [
       "23"
      ]
     },
     "execution_count": 46,
     "metadata": {},
     "output_type": "execute_result"
    }
   ],
   "source": [
    "len(set(fgms))"
   ]
  },
  {
   "cell_type": "code",
   "execution_count": null,
   "id": "41e27307",
   "metadata": {},
   "outputs": [],
   "source": [
    "fgms = model.run_threes_model(player_name='Jayson Tatum', bootstrap_resamples=10, n_simulated_games=10_000, opponent='PHI', plot=False)"
   ]
  }
 ],
 "metadata": {
  "kernelspec": {
   "display_name": "Python 3 (ipykernel)",
   "language": "python",
   "name": "python3"
  },
  "language_info": {
   "codemirror_mode": {
    "name": "ipython",
    "version": 3
   },
   "file_extension": ".py",
   "mimetype": "text/x-python",
   "name": "python",
   "nbconvert_exporter": "python",
   "pygments_lexer": "ipython3",
   "version": "3.10.5"
  }
 },
 "nbformat": 4,
 "nbformat_minor": 5
}
