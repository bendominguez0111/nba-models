{
 "cells": [
  {
   "cell_type": "code",
   "execution_count": 1,
   "id": "bf9b4279",
   "metadata": {},
   "outputs": [],
   "source": [
    "import sys, os\n",
    "insert_path = os.path.dirname(os.path.abspath(\"\"))\n",
    "sys.path.insert(0, insert_path)"
   ]
  },
  {
   "cell_type": "code",
   "execution_count": 7,
   "id": "9375abb4",
   "metadata": {},
   "outputs": [],
   "source": [
    "from model.models.threes import ThreesModel\n",
    "import numpy as np"
   ]
  },
  {
   "cell_type": "code",
   "execution_count": 4,
   "id": "0f3916d3",
   "metadata": {},
   "outputs": [
    {
     "name": "stderr",
     "output_type": "stream",
     "text": [
      "Simulating 3PM outcomes for Jordan Poole vs LAL...: 100%|██████████████████████████████| 10000/10000 [00:05<00:00, 1730.65it/s]\n"
     ]
    }
   ],
   "source": [
    "player_name = 'Jordan Poole'\n",
    "opponent = 'LAL'\n",
    "\n",
    "sim_results = ThreesModel.run_model(\n",
    "    n_simulated_games=10_000,\n",
    "    player_name=player_name,\n",
    "    opponent=opponent,\n",
    "    plot=False\n",
    ")"
   ]
  },
  {
   "cell_type": "code",
   "execution_count": 8,
   "id": "4a90ec9e",
   "metadata": {},
   "outputs": [
    {
     "data": {
      "text/plain": [
       "array([ 0,  1,  2,  3,  4,  5,  6,  7,  8,  9, 10, 11, 12])"
      ]
     },
     "execution_count": 8,
     "metadata": {},
     "output_type": "execute_result"
    }
   ],
   "source": [
    "unique_resnp.unique(sim_results)"
   ]
  },
  {
   "cell_type": "code",
   "execution_count": null,
   "id": "6ddfc6aa",
   "metadata": {},
   "outputs": [],
   "source": []
  }
 ],
 "metadata": {
  "kernelspec": {
   "display_name": "Python 3 (ipykernel)",
   "language": "python",
   "name": "python3"
  },
  "language_info": {
   "codemirror_mode": {
    "name": "ipython",
    "version": 3
   },
   "file_extension": ".py",
   "mimetype": "text/x-python",
   "name": "python",
   "nbconvert_exporter": "python",
   "pygments_lexer": "ipython3",
   "version": "3.10.5"
  }
 },
 "nbformat": 4,
 "nbformat_minor": 5
}
