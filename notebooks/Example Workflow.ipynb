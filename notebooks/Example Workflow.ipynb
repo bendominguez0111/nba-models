{
 "cells": [
  {
   "cell_type": "code",
   "execution_count": 2,
   "id": "d8331bca",
   "metadata": {},
   "outputs": [],
   "source": [
    "import pandas as pd\n",
    "import nba_api"
   ]
  },
  {
   "cell_type": "code",
   "execution_count": 3,
   "id": "8b57613d",
   "metadata": {},
   "outputs": [],
   "source": [
    "from nba_api.stats.static import players\n",
    "from nba_api.stats.endpoints import playergamelog"
   ]
  },
  {
   "cell_type": "code",
   "execution_count": 4,
   "id": "a424a5eb",
   "metadata": {},
   "outputs": [
    {
     "data": {
      "text/html": [
       "<div>\n",
       "<style scoped>\n",
       "    .dataframe tbody tr th:only-of-type {\n",
       "        vertical-align: middle;\n",
       "    }\n",
       "\n",
       "    .dataframe tbody tr th {\n",
       "        vertical-align: top;\n",
       "    }\n",
       "\n",
       "    .dataframe thead th {\n",
       "        text-align: right;\n",
       "    }\n",
       "</style>\n",
       "<table border=\"1\" class=\"dataframe\">\n",
       "  <thead>\n",
       "    <tr style=\"text-align: right;\">\n",
       "      <th></th>\n",
       "      <th>id</th>\n",
       "      <th>prop_type</th>\n",
       "      <th>player_name</th>\n",
       "      <th>matchup_home_team</th>\n",
       "      <th>matchup_away_team</th>\n",
       "      <th>sports_book</th>\n",
       "      <th>name</th>\n",
       "      <th>price</th>\n",
       "      <th>points</th>\n",
       "    </tr>\n",
       "  </thead>\n",
       "  <tbody>\n",
       "    <tr>\n",
       "      <th>0</th>\n",
       "      <td>427facf723f3683c91155fddde234aaa</td>\n",
       "      <td>player_points</td>\n",
       "      <td>Al Horford</td>\n",
       "      <td>Milwaukee Bucks</td>\n",
       "      <td>Boston Celtics</td>\n",
       "      <td>fanduel</td>\n",
       "      <td>Over</td>\n",
       "      <td>-120</td>\n",
       "      <td>9.5</td>\n",
       "    </tr>\n",
       "    <tr>\n",
       "      <th>1</th>\n",
       "      <td>427facf723f3683c91155fddde234aaa</td>\n",
       "      <td>player_points</td>\n",
       "      <td>Al Horford</td>\n",
       "      <td>Milwaukee Bucks</td>\n",
       "      <td>Boston Celtics</td>\n",
       "      <td>fanduel</td>\n",
       "      <td>Under</td>\n",
       "      <td>-102</td>\n",
       "      <td>9.5</td>\n",
       "    </tr>\n",
       "    <tr>\n",
       "      <th>2</th>\n",
       "      <td>427facf723f3683c91155fddde234aaa</td>\n",
       "      <td>player_points</td>\n",
       "      <td>Brook Lopez</td>\n",
       "      <td>Milwaukee Bucks</td>\n",
       "      <td>Boston Celtics</td>\n",
       "      <td>fanduel</td>\n",
       "      <td>Over</td>\n",
       "      <td>-118</td>\n",
       "      <td>12.5</td>\n",
       "    </tr>\n",
       "    <tr>\n",
       "      <th>3</th>\n",
       "      <td>427facf723f3683c91155fddde234aaa</td>\n",
       "      <td>player_points</td>\n",
       "      <td>Brook Lopez</td>\n",
       "      <td>Milwaukee Bucks</td>\n",
       "      <td>Boston Celtics</td>\n",
       "      <td>fanduel</td>\n",
       "      <td>Under</td>\n",
       "      <td>-104</td>\n",
       "      <td>12.5</td>\n",
       "    </tr>\n",
       "    <tr>\n",
       "      <th>4</th>\n",
       "      <td>427facf723f3683c91155fddde234aaa</td>\n",
       "      <td>player_points</td>\n",
       "      <td>Grayson Allen</td>\n",
       "      <td>Milwaukee Bucks</td>\n",
       "      <td>Boston Celtics</td>\n",
       "      <td>fanduel</td>\n",
       "      <td>Over</td>\n",
       "      <td>-115</td>\n",
       "      <td>9.5</td>\n",
       "    </tr>\n",
       "  </tbody>\n",
       "</table>\n",
       "</div>"
      ],
      "text/plain": [
       "                                 id      prop_type    player_name  \\\n",
       "0  427facf723f3683c91155fddde234aaa  player_points     Al Horford   \n",
       "1  427facf723f3683c91155fddde234aaa  player_points     Al Horford   \n",
       "2  427facf723f3683c91155fddde234aaa  player_points    Brook Lopez   \n",
       "3  427facf723f3683c91155fddde234aaa  player_points    Brook Lopez   \n",
       "4  427facf723f3683c91155fddde234aaa  player_points  Grayson Allen   \n",
       "\n",
       "  matchup_home_team matchup_away_team sports_book   name  price  points  \n",
       "0   Milwaukee Bucks    Boston Celtics     fanduel   Over   -120     9.5  \n",
       "1   Milwaukee Bucks    Boston Celtics     fanduel  Under   -102     9.5  \n",
       "2   Milwaukee Bucks    Boston Celtics     fanduel   Over   -118    12.5  \n",
       "3   Milwaukee Bucks    Boston Celtics     fanduel  Under   -104    12.5  \n",
       "4   Milwaukee Bucks    Boston Celtics     fanduel   Over   -115     9.5  "
      ]
     },
     "execution_count": 4,
     "metadata": {},
     "output_type": "execute_result"
    }
   ],
   "source": [
    "df = pd.read_csv('../exports/player_props/2023_02_14.csv')\n",
    "\n",
    "df.head()"
   ]
  },
  {
   "cell_type": "code",
   "execution_count": 5,
   "id": "4cd37c73",
   "metadata": {},
   "outputs": [
    {
     "data": {
      "text/html": [
       "<div>\n",
       "<style scoped>\n",
       "    .dataframe tbody tr th:only-of-type {\n",
       "        vertical-align: middle;\n",
       "    }\n",
       "\n",
       "    .dataframe tbody tr th {\n",
       "        vertical-align: top;\n",
       "    }\n",
       "\n",
       "    .dataframe thead th {\n",
       "        text-align: right;\n",
       "    }\n",
       "</style>\n",
       "<table border=\"1\" class=\"dataframe\">\n",
       "  <thead>\n",
       "    <tr style=\"text-align: right;\">\n",
       "      <th></th>\n",
       "      <th>id</th>\n",
       "      <th>prop_type</th>\n",
       "      <th>player_name</th>\n",
       "      <th>matchup_home_team</th>\n",
       "      <th>matchup_away_team</th>\n",
       "      <th>sports_book</th>\n",
       "      <th>name</th>\n",
       "      <th>price</th>\n",
       "      <th>points</th>\n",
       "    </tr>\n",
       "  </thead>\n",
       "  <tbody>\n",
       "    <tr>\n",
       "      <th>1704</th>\n",
       "      <td>4f6416b6c3acf2dc2cbe674f363ea6b1</td>\n",
       "      <td>player_points</td>\n",
       "      <td>Damian Lillard</td>\n",
       "      <td>Portland Trail Blazers</td>\n",
       "      <td>Washington Wizards</td>\n",
       "      <td>fanduel</td>\n",
       "      <td>Over</td>\n",
       "      <td>-118</td>\n",
       "      <td>35.5</td>\n",
       "    </tr>\n",
       "    <tr>\n",
       "      <th>1705</th>\n",
       "      <td>4f6416b6c3acf2dc2cbe674f363ea6b1</td>\n",
       "      <td>player_points</td>\n",
       "      <td>Damian Lillard</td>\n",
       "      <td>Portland Trail Blazers</td>\n",
       "      <td>Washington Wizards</td>\n",
       "      <td>fanduel</td>\n",
       "      <td>Under</td>\n",
       "      <td>-108</td>\n",
       "      <td>35.5</td>\n",
       "    </tr>\n",
       "    <tr>\n",
       "      <th>1714</th>\n",
       "      <td>4f6416b6c3acf2dc2cbe674f363ea6b1</td>\n",
       "      <td>player_points</td>\n",
       "      <td>Damian Lillard</td>\n",
       "      <td>Portland Trail Blazers</td>\n",
       "      <td>Washington Wizards</td>\n",
       "      <td>betmgm</td>\n",
       "      <td>Over</td>\n",
       "      <td>-110</td>\n",
       "      <td>35.5</td>\n",
       "    </tr>\n",
       "    <tr>\n",
       "      <th>1715</th>\n",
       "      <td>4f6416b6c3acf2dc2cbe674f363ea6b1</td>\n",
       "      <td>player_points</td>\n",
       "      <td>Damian Lillard</td>\n",
       "      <td>Portland Trail Blazers</td>\n",
       "      <td>Washington Wizards</td>\n",
       "      <td>betmgm</td>\n",
       "      <td>Under</td>\n",
       "      <td>-120</td>\n",
       "      <td>35.5</td>\n",
       "    </tr>\n",
       "    <tr>\n",
       "      <th>1720</th>\n",
       "      <td>4f6416b6c3acf2dc2cbe674f363ea6b1</td>\n",
       "      <td>player_points</td>\n",
       "      <td>Damian Lillard</td>\n",
       "      <td>Portland Trail Blazers</td>\n",
       "      <td>Washington Wizards</td>\n",
       "      <td>draftkings</td>\n",
       "      <td>Over</td>\n",
       "      <td>-110</td>\n",
       "      <td>35.5</td>\n",
       "    </tr>\n",
       "  </tbody>\n",
       "</table>\n",
       "</div>"
      ],
      "text/plain": [
       "                                    id      prop_type     player_name  \\\n",
       "1704  4f6416b6c3acf2dc2cbe674f363ea6b1  player_points  Damian Lillard   \n",
       "1705  4f6416b6c3acf2dc2cbe674f363ea6b1  player_points  Damian Lillard   \n",
       "1714  4f6416b6c3acf2dc2cbe674f363ea6b1  player_points  Damian Lillard   \n",
       "1715  4f6416b6c3acf2dc2cbe674f363ea6b1  player_points  Damian Lillard   \n",
       "1720  4f6416b6c3acf2dc2cbe674f363ea6b1  player_points  Damian Lillard   \n",
       "\n",
       "           matchup_home_team   matchup_away_team sports_book   name  price  \\\n",
       "1704  Portland Trail Blazers  Washington Wizards     fanduel   Over   -118   \n",
       "1705  Portland Trail Blazers  Washington Wizards     fanduel  Under   -108   \n",
       "1714  Portland Trail Blazers  Washington Wizards      betmgm   Over   -110   \n",
       "1715  Portland Trail Blazers  Washington Wizards      betmgm  Under   -120   \n",
       "1720  Portland Trail Blazers  Washington Wizards  draftkings   Over   -110   \n",
       "\n",
       "      points  \n",
       "1704    35.5  \n",
       "1705    35.5  \n",
       "1714    35.5  \n",
       "1715    35.5  \n",
       "1720    35.5  "
      ]
     },
     "execution_count": 5,
     "metadata": {},
     "output_type": "execute_result"
    }
   ],
   "source": [
    "dl_df = df[(df['player_name'] == 'Damian Lillard') & (df['prop_type'] == 'player_points')]\n",
    "df_df = dl_df.groupby(['id'])\n",
    "dl_df.head()"
   ]
  },
  {
   "cell_type": "code",
   "execution_count": 6,
   "id": "a1fc8dbe",
   "metadata": {},
   "outputs": [
    {
     "data": {
      "text/plain": [
       "203081"
      ]
     },
     "execution_count": 6,
     "metadata": {},
     "output_type": "execute_result"
    }
   ],
   "source": [
    "dl_id = players.find_players_by_full_name('Damian Lillard')[0]['id']\n",
    "\n",
    "dl_id"
   ]
  },
  {
   "cell_type": "code",
   "execution_count": 10,
   "id": "387de760",
   "metadata": {},
   "outputs": [
    {
     "data": {
      "text/plain": [
       "Index(['SEASON_ID', 'Player_ID', 'Game_ID', 'GAME_DATE', 'MATCHUP', 'WL',\n",
       "       'MIN', 'FGM', 'FGA', 'FG_PCT', 'FG3M', 'FG3A', 'FG3_PCT', 'FTM', 'FTA',\n",
       "       'FT_PCT', 'OREB', 'DREB', 'REB', 'AST', 'STL', 'BLK', 'TOV', 'PF',\n",
       "       'PTS', 'PLUS_MINUS', 'VIDEO_AVAILABLE'],\n",
       "      dtype='object')"
      ]
     },
     "execution_count": 10,
     "metadata": {},
     "output_type": "execute_result"
    }
   ],
   "source": [
    "playergamelog.PlayerGameLog(player_id=dl_id, season='2022').get_data_frames()[0].columns"
   ]
  },
  {
   "cell_type": "code",
   "execution_count": null,
   "id": "6735828e",
   "metadata": {},
   "outputs": [],
   "source": []
  }
 ],
 "metadata": {
  "kernelspec": {
   "display_name": "venv",
   "language": "python",
   "name": "python3"
  },
  "language_info": {
   "codemirror_mode": {
    "name": "ipython",
    "version": 3
   },
   "file_extension": ".py",
   "mimetype": "text/x-python",
   "name": "python",
   "nbconvert_exporter": "python",
   "pygments_lexer": "ipython3",
   "version": "3.10.5"
  },
  "vscode": {
   "interpreter": {
    "hash": "642c30402b05547a000124ade94451e6f52ede89dbb7af27bf5071d2482948c9"
   }
  }
 },
 "nbformat": 4,
 "nbformat_minor": 5
}
